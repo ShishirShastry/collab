{
  "nbformat": 4,
  "nbformat_minor": 0,
  "metadata": {
    "colab": {
      "provenance": [],
      "authorship_tag": "ABX9TyOWh3HFH+erPqnHg5+5zmy1",
      "include_colab_link": true
    },
    "kernelspec": {
      "name": "python3",
      "display_name": "Python 3"
    },
    "language_info": {
      "name": "python"
    }
  },
  "cells": [
    {
      "cell_type": "markdown",
      "metadata": {
        "id": "view-in-github",
        "colab_type": "text"
      },
      "source": [
        "<a href=\"https://colab.research.google.com/github/ShishirShastry/collab/blob/main/8th.ipynb\" target=\"_parent\"><img src=\"https://colab.research.google.com/assets/colab-badge.svg\" alt=\"Open In Colab\"/></a>"
      ]
    },
    {
      "cell_type": "code",
      "source": [
        "pip install spark"
      ],
      "metadata": {
        "colab": {
          "base_uri": "https://localhost:8080/"
        },
        "id": "dUfh4bCr0Nz-",
        "outputId": "f60fdaa2-940d-4c51-b22b-f39691eb62f2"
      },
      "execution_count": 4,
      "outputs": [
        {
          "output_type": "stream",
          "name": "stdout",
          "text": [
            "Collecting spark\n",
            "  Downloading spark-0.2.1.tar.gz (41 kB)\n",
            "\u001b[?25l     \u001b[90m━━━━━━━━━━━━━━━━━━━━━━━━━━━━━━━━━━━━━━━━\u001b[0m \u001b[32m0.0/41.0 kB\u001b[0m \u001b[31m?\u001b[0m eta \u001b[36m-:--:--\u001b[0m\r\u001b[2K     \u001b[91m━━━━━━━━━━━━━━━━━━━━━━━━━━━━━━━━━━━━━━━\u001b[0m\u001b[91m╸\u001b[0m \u001b[32m41.0/41.0 kB\u001b[0m \u001b[31m1.1 MB/s\u001b[0m eta \u001b[36m0:00:01\u001b[0m\r\u001b[2K     \u001b[90m━━━━━━━━━━━━━━━━━━━━━━━━━━━━━━━━━━━━━━━━\u001b[0m \u001b[32m41.0/41.0 kB\u001b[0m \u001b[31m859.1 kB/s\u001b[0m eta \u001b[36m0:00:00\u001b[0m\n",
            "\u001b[?25h  Preparing metadata (setup.py) ... \u001b[?25l\u001b[?25hdone\n",
            "Building wheels for collected packages: spark\n",
            "  Building wheel for spark (setup.py) ... \u001b[?25l\u001b[?25hdone\n",
            "  Created wheel for spark: filename=spark-0.2.1-py3-none-any.whl size=58749 sha256=afa36c7f6d2361cc64c1ed8dc35af3918c3be9850d984fc8ee9afb14f7e073bf\n",
            "  Stored in directory: /root/.cache/pip/wheels/63/88/77/b4131110ea4094540f7b47c6d62a649807d7e94800da5eab0b\n",
            "Successfully built spark\n",
            "Installing collected packages: spark\n",
            "Successfully installed spark-0.2.1\n"
          ]
        }
      ]
    },
    {
      "cell_type": "code",
      "source": [
        "pip install pyspark"
      ],
      "metadata": {
        "colab": {
          "base_uri": "https://localhost:8080/"
        },
        "id": "KyoEAmQr0W0R",
        "outputId": "8ff70cc5-f3c0-4e65-85ea-e66a059b0d80"
      },
      "execution_count": 5,
      "outputs": [
        {
          "output_type": "stream",
          "name": "stdout",
          "text": [
            "Collecting pyspark\n",
            "  Downloading pyspark-3.5.1.tar.gz (317.0 MB)\n",
            "\u001b[2K     \u001b[90m━━━━━━━━━━━━━━━━━━━━━━━━━━━━━━━━━━━━━━━━\u001b[0m \u001b[32m317.0/317.0 MB\u001b[0m \u001b[31m4.1 MB/s\u001b[0m eta \u001b[36m0:00:00\u001b[0m\n",
            "\u001b[?25h  Preparing metadata (setup.py) ... \u001b[?25l\u001b[?25hdone\n",
            "Requirement already satisfied: py4j==0.10.9.7 in /usr/local/lib/python3.10/dist-packages (from pyspark) (0.10.9.7)\n",
            "Building wheels for collected packages: pyspark\n",
            "  Building wheel for pyspark (setup.py) ... \u001b[?25l\u001b[?25hdone\n",
            "  Created wheel for pyspark: filename=pyspark-3.5.1-py2.py3-none-any.whl size=317488491 sha256=018f0f8233ac466a27cf24a367777cd5b5de346eb612a5685eb8c88ec9a54c70\n",
            "  Stored in directory: /root/.cache/pip/wheels/80/1d/60/2c256ed38dddce2fdd93be545214a63e02fbd8d74fb0b7f3a6\n",
            "Successfully built pyspark\n",
            "Installing collected packages: pyspark\n",
            "Successfully installed pyspark-3.5.1\n"
          ]
        }
      ]
    },
    {
      "cell_type": "code",
      "source": [
        "from pyspark.sql import SparkSession\n",
        "from pyspark.sql.functions import col,sum,avg,max\n"
      ],
      "metadata": {
        "id": "NxriJOYu0nzb"
      },
      "execution_count": 18,
      "outputs": []
    },
    {
      "cell_type": "code",
      "source": [
        "# Initialize SparkSession\n",
        "ss = SparkSession.builder \\\n",
        "    .appName(\"example\") \\\n",
        "    .getOrCreate()"
      ],
      "metadata": {
        "id": "y3W23W3q049g"
      },
      "execution_count": 25,
      "outputs": []
    },
    {
      "cell_type": "code",
      "source": [
        "Data = [(\"James\",\"Sales\",\"NY\",90000,34,10000),\n",
        "(\"Michael\",\"Sales\",\"NV\",86000,56,20000),\n",
        "(\"Robert\",\"Sales\",\"CA\",81000,30,23000),\n",
        "(\"Maria\",\"Finance\",\"CA\",90000,24,23000),\n",
        "(\"Raman\",\"Finance\",\"DE\",99000,40,24000),\n",
        "(\"Scott\",\"Finance\",\"NY\",83000,36,19000),\n",
        "(\"Jen\",\"Finance\",\"NY\",79000,53,15000),\n",
        "(\"Jeff\",\"Marketing\",\"NV\",80000,25,18000),\n",
        "(\"Kumar\",\"Marketing\",\"NJ\",91000,50,21000)\n",
        "]\n"
      ],
      "metadata": {
        "id": "fwQwX6bi01T2"
      },
      "execution_count": 8,
      "outputs": []
    },
    {
      "cell_type": "code",
      "source": [
        "schema = [\"employee_name\",\"department\",\"state\",\"salary\",\"age\",\"bonus\"]"
      ],
      "metadata": {
        "id": "RknlfTAR03m3"
      },
      "execution_count": 9,
      "outputs": []
    },
    {
      "cell_type": "code",
      "source": [
        "df = ss.createDataFrame(Data, schema)"
      ],
      "metadata": {
        "id": "O0Syq4cx2a6A"
      },
      "execution_count": 23,
      "outputs": []
    },
    {
      "cell_type": "code",
      "source": [
        "df.show()"
      ],
      "metadata": {
        "colab": {
          "base_uri": "https://localhost:8080/"
        },
        "id": "Wht_TUTf2pAy",
        "outputId": "f91f38e4-2570-4d7b-c58c-4e2d41e6dc86"
      },
      "execution_count": 26,
      "outputs": [
        {
          "output_type": "stream",
          "name": "stdout",
          "text": [
            "+-------------+----------+-----+------+---+-----+\n",
            "|employee_name|department|state|salary|age|bonus|\n",
            "+-------------+----------+-----+------+---+-----+\n",
            "|        James|     Sales|   NY| 90000| 34|10000|\n",
            "|      Michael|     Sales|   NV| 86000| 56|20000|\n",
            "|       Robert|     Sales|   CA| 81000| 30|23000|\n",
            "|        Maria|   Finance|   CA| 90000| 24|23000|\n",
            "|        Raman|   Finance|   DE| 99000| 40|24000|\n",
            "|        Scott|   Finance|   NY| 83000| 36|19000|\n",
            "|          Jen|   Finance|   NY| 79000| 53|15000|\n",
            "|         Jeff| Marketing|   NV| 80000| 25|18000|\n",
            "|        Kumar| Marketing|   NJ| 91000| 50|21000|\n",
            "+-------------+----------+-----+------+---+-----+\n",
            "\n"
          ]
        }
      ]
    },
    {
      "cell_type": "code",
      "source": [
        "df.printSchema()"
      ],
      "metadata": {
        "colab": {
          "base_uri": "https://localhost:8080/"
        },
        "id": "fhcHfkMh5Pw8",
        "outputId": "ca2954bc-8a3f-49f9-e830-a2d7a28ee55f"
      },
      "execution_count": 27,
      "outputs": [
        {
          "output_type": "stream",
          "name": "stdout",
          "text": [
            "root\n",
            " |-- employee_name: string (nullable = true)\n",
            " |-- department: string (nullable = true)\n",
            " |-- state: string (nullable = true)\n",
            " |-- salary: long (nullable = true)\n",
            " |-- age: long (nullable = true)\n",
            " |-- bonus: long (nullable = true)\n",
            "\n"
          ]
        }
      ]
    },
    {
      "cell_type": "code",
      "source": [
        "df.groupBy(\"state\").sum(\"salary\").show()"
      ],
      "metadata": {
        "colab": {
          "base_uri": "https://localhost:8080/"
        },
        "id": "MsRRR1a05TkI",
        "outputId": "14c016df-eb42-4b83-accc-16c72c111039"
      },
      "execution_count": 34,
      "outputs": [
        {
          "output_type": "stream",
          "name": "stdout",
          "text": [
            "+-----+-----------+\n",
            "|state|sum(salary)|\n",
            "+-----+-----------+\n",
            "|   NV|     166000|\n",
            "|   CA|     171000|\n",
            "|   NY|     252000|\n",
            "|   NJ|      91000|\n",
            "|   DE|      99000|\n",
            "+-----+-----------+\n",
            "\n"
          ]
        }
      ]
    },
    {
      "cell_type": "code",
      "source": [
        "df.groupBy(\"state\").sum(\"salary\").filter(\"sum(salary)>100000\").show()"
      ],
      "metadata": {
        "colab": {
          "base_uri": "https://localhost:8080/"
        },
        "id": "TlXev9JM5WLI",
        "outputId": "1729d551-6c26-4ceb-d69b-6fc42d35560f"
      },
      "execution_count": 33,
      "outputs": [
        {
          "output_type": "stream",
          "name": "stdout",
          "text": [
            "+-----+-----------+\n",
            "|state|sum(salary)|\n",
            "+-----+-----------+\n",
            "|   NV|     166000|\n",
            "|   CA|     171000|\n",
            "|   NY|     252000|\n",
            "+-----+-----------+\n",
            "\n"
          ]
        }
      ]
    },
    {
      "cell_type": "code",
      "source": [
        "df.groupBy(\"state\").sum(\"salary\").orderBy(\"sum(salary)\").show()"
      ],
      "metadata": {
        "colab": {
          "base_uri": "https://localhost:8080/"
        },
        "id": "9eqccazY5ZjR",
        "outputId": "9e279f6a-3369-431b-b361-dc34dc0b4fce"
      },
      "execution_count": 37,
      "outputs": [
        {
          "output_type": "stream",
          "name": "stdout",
          "text": [
            "+-----+-----------+\n",
            "|state|sum(salary)|\n",
            "+-----+-----------+\n",
            "|   NJ|      91000|\n",
            "|   DE|      99000|\n",
            "|   NV|     166000|\n",
            "|   CA|     171000|\n",
            "|   NY|     252000|\n",
            "+-----+-----------+\n",
            "\n"
          ]
        }
      ]
    }
  ]
}